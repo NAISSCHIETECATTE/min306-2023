{
  "nbformat": 4,
  "nbformat_minor": 0,
  "metadata": {
    "colab": {
      "provenance": []
    },
    "kernelspec": {
      "name": "python3",
      "display_name": "Python 3"
    },
    "language_info": {
      "name": "python"
    }
  },
  "cells": [
    {
      "cell_type": "code",
      "execution_count": 9,
      "metadata": {
        "id": "tV04w-QSFdyk"
      },
      "outputs": [],
      "source": [
        "import pandas as pd\n",
        "import numpy as np\n",
        "from datetime import datetime\n",
        "\n",
        "df = pd.read_csv('events_feb2012.csv')"
      ]
    },
    {
      "cell_type": "code",
      "source": [
        "dates = df.endDate\n",
        "dates = dates.tolist()"
      ],
      "metadata": {
        "id": "WXNRbdPYHr0D"
      },
      "execution_count": 10,
      "outputs": []
    },
    {
      "cell_type": "code",
      "source": [
        "week_days = []\n",
        "\n",
        "for date in dates:\n",
        "  date_string = date\n",
        "  date1 = datetime.strptime(date_string, '%Y-%m-%d')\n",
        "  day_of_week = date1.strftime('%A')\n",
        "  week_days.append(day_of_week)"
      ],
      "metadata": {
        "id": "XVJWyLq0-YCz"
      },
      "execution_count": 11,
      "outputs": []
    },
    {
      "cell_type": "code",
      "source": [
        "#print(week_days)"
      ],
      "metadata": {
        "id": "HNLOL5tn_I9F"
      },
      "execution_count": 12,
      "outputs": []
    },
    {
      "cell_type": "code",
      "source": [
        "stats=[]\n",
        "stats.append(week_days.count('Monday'))\n",
        "stats.append(week_days.count('Tuesday'))\n",
        "stats.append(week_days.count('Wednesday'))\n",
        "stats.append(week_days.count('Thursday'))\n",
        "stats.append(week_days.count('Friday'))\n",
        "stats.append(week_days.count('Saturday'))\n",
        "stats.append(week_days.count('Sunday'))\n",
        "\n",
        "print(stats)"
      ],
      "metadata": {
        "colab": {
          "base_uri": "https://localhost:8080/"
        },
        "id": "wM1qATeN_VjY",
        "outputId": "d1b7bf2b-1c27-47d0-c7e9-88ebba0a0127"
      },
      "execution_count": 13,
      "outputs": [
        {
          "output_type": "stream",
          "name": "stdout",
          "text": [
            "[18, 17, 30, 38, 25, 46, 14]\n"
          ]
        }
      ]
    }
  ]
}